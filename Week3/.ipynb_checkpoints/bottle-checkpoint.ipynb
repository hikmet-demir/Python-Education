{
 "cells": [
  {
   "cell_type": "code",
   "execution_count": 5,
   "metadata": {},
   "outputs": [],
   "source": [
    "from bottle import route, run"
   ]
  },
  {
   "cell_type": "code",
   "execution_count": 6,
   "metadata": {},
   "outputs": [],
   "source": [
    "hikmet = 3"
   ]
  },
  {
   "cell_type": "code",
   "execution_count": null,
   "metadata": {},
   "outputs": [
    {
     "name": "stderr",
     "output_type": "stream",
     "text": [
      "Bottle v0.12.13 server starting up (using WSGIRefServer())...\n",
      "Listening on http://localhost:8080/\n",
      "Hit Ctrl-C to quit.\n",
      "\n",
      "c:\\users\\hkmet\\appdata\\local\\programs\\python\\python36\\lib\\site-packages\\bottle.py:3468: DeprecationWarning: Flags not at the start of the expression \"((?m)[urbURB]?(?:''(\" (truncated)\n",
      "  patterns = [re.compile(p%pattern_vars) for p in patterns]\n",
      "c:\\users\\hkmet\\appdata\\local\\programs\\python\\python36\\lib\\site-packages\\bottle.py:3468: DeprecationWarning: Flags not at the start of the expression '\\\\{\\\\{((?:((?m)[urbURB' (truncated)\n",
      "  patterns = [re.compile(p%pattern_vars) for p in patterns]\n",
      "127.0.0.1 - - [12/Nov/2018 14:32:34] \"GET / HTTP/1.1\" 404 720\n",
      "127.0.0.1 - - [12/Nov/2018 14:32:37] \"GET /hello HTTP/1.1\" 500 1153\n"
     ]
    }
   ],
   "source": [
    "\n",
    "\n",
    "@route('/hello')\n",
    "def hello():\n",
    "    return str(hikmet)\n",
    "\n",
    "run(host='localhost', port=8080, debug=True)"
   ]
  },
  {
   "cell_type": "code",
   "execution_count": null,
   "metadata": {},
   "outputs": [],
   "source": []
  }
 ],
 "metadata": {
  "kernelspec": {
   "display_name": "Python 3",
   "language": "python",
   "name": "python3"
  },
  "language_info": {
   "codemirror_mode": {
    "name": "ipython",
    "version": 3
   },
   "file_extension": ".py",
   "mimetype": "text/x-python",
   "name": "python",
   "nbconvert_exporter": "python",
   "pygments_lexer": "ipython3",
   "version": "3.6.5"
  }
 },
 "nbformat": 4,
 "nbformat_minor": 2
}
